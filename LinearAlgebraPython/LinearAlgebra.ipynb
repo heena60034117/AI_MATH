{
 "cells": [
  {
   "cell_type": "markdown",
   "id": "9cd5b57b",
   "metadata": {},
   "source": [
    "Linear Algebra "
   ]
  },
  {
   "cell_type": "code",
   "execution_count": 4,
   "id": "a7d29409",
   "metadata": {},
   "outputs": [],
   "source": [
    "import numpy as np"
   ]
  },
  {
   "cell_type": "code",
   "execution_count": 5,
   "id": "5ea93335",
   "metadata": {},
   "outputs": [],
   "source": [
    "x = np.array([[1],[2],[3]])"
   ]
  },
  {
   "cell_type": "code",
   "execution_count": 6,
   "id": "d454f811",
   "metadata": {},
   "outputs": [
    {
     "data": {
      "text/plain": [
       "(3, 1)"
      ]
     },
     "execution_count": 6,
     "metadata": {},
     "output_type": "execute_result"
    }
   ],
   "source": [
    "x.shape"
   ]
  },
  {
   "cell_type": "code",
   "execution_count": 7,
   "id": "39f6787f",
   "metadata": {},
   "outputs": [],
   "source": [
    "y = np.array([[1],[2],[3]])"
   ]
  },
  {
   "cell_type": "code",
   "execution_count": 8,
   "id": "5575789f",
   "metadata": {},
   "outputs": [
    {
     "name": "stdout",
     "output_type": "stream",
     "text": [
      "[[2]\n",
      " [4]\n",
      " [6]]\n"
     ]
    }
   ],
   "source": [
    "z = x+y\n",
    "print(z)"
   ]
  },
  {
   "cell_type": "code",
   "execution_count": 9,
   "id": "72b3f3f6",
   "metadata": {},
   "outputs": [
    {
     "name": "stdout",
     "output_type": "stream",
     "text": [
      "[[2]\n",
      " [4]\n",
      " [6]]\n"
     ]
    }
   ],
   "source": [
    "print(np.add(x,y))"
   ]
  },
  {
   "cell_type": "code",
   "execution_count": 10,
   "id": "05dde1b1",
   "metadata": {},
   "outputs": [
    {
     "name": "stdout",
     "output_type": "stream",
     "text": [
      "[[ 4]\n",
      " [ 8]\n",
      " [12]]\n"
     ]
    }
   ],
   "source": [
    "alpha = 2\n",
    "print(alpha*z)"
   ]
  },
  {
   "cell_type": "code",
   "execution_count": 11,
   "id": "8a2baef5",
   "metadata": {},
   "outputs": [
    {
     "name": "stdout",
     "output_type": "stream",
     "text": [
      "[[16]\n",
      " [21]]\n"
     ]
    }
   ],
   "source": [
    "a = 2\n",
    "b = 3\n",
    "x = np.array([[2],[3]])\n",
    "y = np.array([[4],[5]])\n",
    "z = (a*x)+(b*y)\n",
    "print(z)"
   ]
  },
  {
   "cell_type": "code",
   "execution_count": 12,
   "id": "f376ef84",
   "metadata": {},
   "outputs": [
    {
     "data": {
      "text/plain": [
       "array([[16],\n",
       "       [21]])"
      ]
     },
     "execution_count": 12,
     "metadata": {},
     "output_type": "execute_result"
    }
   ],
   "source": [
    "a, b = 2, 3\n",
    "x, y = np.array([[2], [3]]), np.array([[4], [5]])\n",
    "\n",
    "a*x + b* y"
   ]
  },
  {
   "cell_type": "code",
   "execution_count": 13,
   "id": "adda75ae",
   "metadata": {},
   "outputs": [
    {
     "data": {
      "text/plain": [
       "array([[-14]])"
      ]
     },
     "execution_count": 13,
     "metadata": {},
     "output_type": "execute_result"
    }
   ],
   "source": [
    "x, y = np.array([[-2], [2]]), np.array([[4], [-3]])\n",
    "x.T @ y"
   ]
  },
  {
   "cell_type": "code",
   "execution_count": 15,
   "id": "a2ac0fc9",
   "metadata": {},
   "outputs": [
    {
     "data": {
      "text/plain": [
       "array([[-2,  2]])"
      ]
     },
     "execution_count": 15,
     "metadata": {},
     "output_type": "execute_result"
    }
   ],
   "source": [
    "x.T"
   ]
  },
  {
   "cell_type": "code",
   "execution_count": 20,
   "id": "d57b2396",
   "metadata": {},
   "outputs": [
    {
     "data": {
      "text/plain": [
       "5.385164807134505"
      ]
     },
     "execution_count": 20,
     "metadata": {},
     "output_type": "execute_result"
    }
   ],
   "source": [
    "#Euclidean norm\n",
    "x = np.array([[3],[4],[2]])\n",
    "np.linalg.norm(x,2)"
   ]
  },
  {
   "cell_type": "code",
   "execution_count": 21,
   "id": "8dfc3df9",
   "metadata": {},
   "outputs": [
    {
     "data": {
      "text/plain": [
       "9.0"
      ]
     },
     "execution_count": 21,
     "metadata": {},
     "output_type": "execute_result"
    }
   ],
   "source": [
    "#MAnhattan norm\n",
    "x = np.array([[3],[4],[2]])\n",
    "np.linalg.norm(x,1)"
   ]
  },
  {
   "cell_type": "code",
   "execution_count": 24,
   "id": "829780f4",
   "metadata": {},
   "outputs": [
    {
     "data": {
      "text/plain": [
       "8.0"
      ]
     },
     "execution_count": 24,
     "metadata": {},
     "output_type": "execute_result"
    }
   ],
   "source": [
    "#Max norm\n",
    "x = np.array([[3],[4],[-8]])\n",
    "np.linalg.norm(x,np.inf)"
   ]
  },
  {
   "cell_type": "code",
   "execution_count": 25,
   "id": "1789b0b4",
   "metadata": {},
   "outputs": [
    {
     "name": "stdout",
     "output_type": "stream",
     "text": [
      "6.164414002968975\n"
     ]
    }
   ],
   "source": [
    "#Distance between 2 pair of vector\n",
    "x, y = np.array([[3],[4],[-8]]), np.array([[2],[5],[-2]])\n",
    "distance = np.linalg.norm(x-y,2)\n",
    "print(distance)"
   ]
  },
  {
   "cell_type": "code",
   "execution_count": 27,
   "id": "5fa78bed",
   "metadata": {},
   "outputs": [
    {
     "name": "stdout",
     "output_type": "stream",
     "text": [
      "cos of the angle = [[0.966]]\n"
     ]
    }
   ],
   "source": [
    "# Vector angles and orthogonality\n",
    "x, y = np.array([[3],[4]]), np.array([[2],[5]])\n",
    "cos_theta = (x.T @ y)  / (np.linalg.norm(x,2) * np.linalg.norm(y,2))\n",
    "print(f'cos of the angle = {np.round(cos_theta, 3)}')\n",
    "\n",
    "#This is a necessary conclusion (range between −1,1) since the numerator in the equation always is going to be smaller or equal to the denominator."
   ]
  },
  {
   "cell_type": "code",
   "execution_count": null,
   "id": "234f98dc",
   "metadata": {},
   "outputs": [],
   "source": [
    "# We get that cosθ≈0.966\n",
    "# . Finally, to know the exact value of θ\n",
    "#  we need to take the trigonometric inverse of the cosine function as:"
   ]
  },
  {
   "cell_type": "code",
   "execution_count": 28,
   "id": "a31eef1f",
   "metadata": {},
   "outputs": [
    {
     "name": "stdout",
     "output_type": "stream",
     "text": [
      "angle in radiants = [[0.263]]\n"
     ]
    }
   ],
   "source": [
    "cos_inverse = np.arccos(cos_theta)\n",
    "print(f'angle in radiants = {np.round(cos_inverse, 3)}')"
   ]
  },
  {
   "cell_type": "code",
   "execution_count": 29,
   "id": "45e4586f",
   "metadata": {},
   "outputs": [
    {
     "name": "stdout",
     "output_type": "stream",
     "text": [
      "angle in degrees = [[15.068]]\n"
     ]
    }
   ],
   "source": [
    "#f'angle in degrees\n",
    "degrees = cos_inverse * ((180)/np.pi)\n",
    "print(f'angle in degrees = {np.round(degrees, 3)}')"
   ]
  },
  {
   "cell_type": "code",
   "execution_count": 36,
   "id": "226fc3ec",
   "metadata": {},
   "outputs": [
    {
     "data": {
      "text/html": [
       "\n",
       "<style>\n",
       "  #altair-viz-90a022a4a5b546ffa74e10c017f57775.vega-embed {\n",
       "    width: 100%;\n",
       "    display: flex;\n",
       "  }\n",
       "\n",
       "  #altair-viz-90a022a4a5b546ffa74e10c017f57775.vega-embed details,\n",
       "  #altair-viz-90a022a4a5b546ffa74e10c017f57775.vega-embed details summary {\n",
       "    position: relative;\n",
       "  }\n",
       "</style>\n",
       "<div id=\"altair-viz-90a022a4a5b546ffa74e10c017f57775\"></div>\n",
       "<script type=\"text/javascript\">\n",
       "  var VEGA_DEBUG = (typeof VEGA_DEBUG == \"undefined\") ? {} : VEGA_DEBUG;\n",
       "  (function(spec, embedOpt){\n",
       "    let outputDiv = document.currentScript.previousElementSibling;\n",
       "    if (outputDiv.id !== \"altair-viz-90a022a4a5b546ffa74e10c017f57775\") {\n",
       "      outputDiv = document.getElementById(\"altair-viz-90a022a4a5b546ffa74e10c017f57775\");\n",
       "    }\n",
       "    const paths = {\n",
       "      \"vega\": \"https://cdn.jsdelivr.net/npm/vega@5?noext\",\n",
       "      \"vega-lib\": \"https://cdn.jsdelivr.net/npm/vega-lib?noext\",\n",
       "      \"vega-lite\": \"https://cdn.jsdelivr.net/npm/vega-lite@5.8.0?noext\",\n",
       "      \"vega-embed\": \"https://cdn.jsdelivr.net/npm/vega-embed@6?noext\",\n",
       "    };\n",
       "\n",
       "    function maybeLoadScript(lib, version) {\n",
       "      var key = `${lib.replace(\"-\", \"\")}_version`;\n",
       "      return (VEGA_DEBUG[key] == version) ?\n",
       "        Promise.resolve(paths[lib]) :\n",
       "        new Promise(function(resolve, reject) {\n",
       "          var s = document.createElement('script');\n",
       "          document.getElementsByTagName(\"head\")[0].appendChild(s);\n",
       "          s.async = true;\n",
       "          s.onload = () => {\n",
       "            VEGA_DEBUG[key] = version;\n",
       "            return resolve(paths[lib]);\n",
       "          };\n",
       "          s.onerror = () => reject(`Error loading script: ${paths[lib]}`);\n",
       "          s.src = paths[lib];\n",
       "        });\n",
       "    }\n",
       "\n",
       "    function showError(err) {\n",
       "      outputDiv.innerHTML = `<div class=\"error\" style=\"color:red;\">${err}</div>`;\n",
       "      throw err;\n",
       "    }\n",
       "\n",
       "    function displayChart(vegaEmbed) {\n",
       "      vegaEmbed(outputDiv, spec, embedOpt)\n",
       "        .catch(err => showError(`Javascript Error: ${err.message}<br>This usually means there's a typo in your chart specification. See the javascript console for the full traceback.`));\n",
       "    }\n",
       "\n",
       "    if(typeof define === \"function\" && define.amd) {\n",
       "      requirejs.config({paths});\n",
       "      require([\"vega-embed\"], displayChart, err => showError(`Error loading script: ${err.message}`));\n",
       "    } else {\n",
       "      maybeLoadScript(\"vega\", \"5\")\n",
       "        .then(() => maybeLoadScript(\"vega-lite\", \"5.8.0\"))\n",
       "        .then(() => maybeLoadScript(\"vega-embed\", \"6\"))\n",
       "        .catch(showError)\n",
       "        .then(() => displayChart(vegaEmbed));\n",
       "    }\n",
       "  })({\"config\": {\"view\": {\"continuousWidth\": 300, \"continuousHeight\": 300}}, \"layer\": [{\"mark\": {\"type\": \"line\"}, \"encoding\": {\"x\": {\"field\": \"x1\", \"type\": \"quantitative\"}, \"y\": {\"field\": \"y1\", \"type\": \"quantitative\"}}}, {\"mark\": {\"type\": \"line\", \"color\": \"red\"}, \"encoding\": {\"x\": {\"field\": \"x2\", \"type\": \"quantitative\"}, \"y\": {\"field\": \"y2\", \"type\": \"quantitative\"}}}], \"data\": {\"name\": \"data-57ffab6a26a928c2ff17e40b29b8a272\"}, \"$schema\": \"https://vega.github.io/schema/vega-lite/v5.8.0.json\", \"datasets\": {\"data-57ffab6a26a928c2ff17e40b29b8a272\": [{\"x1\": 0, \"y1\": 8, \"x2\": 0.5, \"y2\": 0}, {\"x1\": 2, \"y1\": 3, \"x2\": 2.0, \"y2\": 3}]}}, {\"mode\": \"vega-lite\"});\n",
       "</script>"
      ],
      "text/plain": [
       "alt.LayerChart(...)"
      ]
     },
     "execution_count": 36,
     "metadata": {},
     "output_type": "execute_result"
    }
   ],
   "source": [
    "import pandas as pd\n",
    "import altair as alt\n",
    "df = pd.DataFrame({\"x1\": [0, 2], \"y1\":[8, 3], \"x2\": [0.5, 2], \"y2\": [0, 3]})\n",
    "equation1 = alt.Chart(df).mark_line().encode(x=\"x1\", y=\"y1\")\n",
    "equation2 = alt.Chart(df).mark_line(color=\"red\").encode(x=\"x2\", y=\"y2\")\n",
    "equation1 + equation2"
   ]
  },
  {
   "cell_type": "code",
   "execution_count": 37,
   "id": "0cbf72e8",
   "metadata": {},
   "outputs": [
    {
     "name": "stdout",
     "output_type": "stream",
     "text": [
      "[[0 2]\n",
      " [1 4]]\n"
     ]
    }
   ],
   "source": [
    "A = np.array([[0,2],[1,4]])\n",
    "print(A)"
   ]
  },
  {
   "cell_type": "code",
   "execution_count": 38,
   "id": "bf02366d",
   "metadata": {},
   "outputs": [],
   "source": [
    "A = np.array([[0,2],\n",
    "              [1,4]])\n",
    "B = np.array([[3,1],\n",
    "              [-3,2]])"
   ]
  },
  {
   "cell_type": "code",
   "execution_count": 39,
   "id": "a485c0b6",
   "metadata": {},
   "outputs": [
    {
     "data": {
      "text/plain": [
       "array([[ 3,  3],\n",
       "       [-2,  6]])"
      ]
     },
     "execution_count": 39,
     "metadata": {},
     "output_type": "execute_result"
    }
   ],
   "source": [
    "A+B"
   ]
  },
  {
   "cell_type": "code",
   "execution_count": 40,
   "id": "b80d9589",
   "metadata": {},
   "outputs": [
    {
     "data": {
      "text/plain": [
       "array([[ 3,  3],\n",
       "       [-2,  6]])"
      ]
     },
     "execution_count": 40,
     "metadata": {},
     "output_type": "execute_result"
    }
   ],
   "source": [
    "np.add(A,B)"
   ]
  },
  {
   "cell_type": "code",
   "execution_count": 41,
   "id": "f660132b",
   "metadata": {},
   "outputs": [
    {
     "data": {
      "text/plain": [
       "2"
      ]
     },
     "execution_count": 41,
     "metadata": {},
     "output_type": "execute_result"
    }
   ],
   "source": [
    "alpha"
   ]
  },
  {
   "cell_type": "code",
   "execution_count": 42,
   "id": "edd20177",
   "metadata": {},
   "outputs": [
    {
     "data": {
      "text/plain": [
       "array([[0, 4],\n",
       "       [2, 8]])"
      ]
     },
     "execution_count": 42,
     "metadata": {},
     "output_type": "execute_result"
    }
   ],
   "source": [
    "alpha*A"
   ]
  },
  {
   "cell_type": "code",
   "execution_count": 44,
   "id": "5d219558",
   "metadata": {},
   "outputs": [
    {
     "data": {
      "text/plain": [
       "array([[0, 4],\n",
       "       [2, 8]])"
      ]
     },
     "execution_count": 44,
     "metadata": {},
     "output_type": "execute_result"
    }
   ],
   "source": [
    "np.multiply(A,alpha)"
   ]
  },
  {
   "cell_type": "code",
   "execution_count": 45,
   "id": "4dd19f79",
   "metadata": {},
   "outputs": [],
   "source": [
    "A = np.array([[0,2],\n",
    "              [1,4]])\n",
    "x = np.array([[1],\n",
    "              [2]])"
   ]
  },
  {
   "cell_type": "code",
   "execution_count": 47,
   "id": "5785da47",
   "metadata": {},
   "outputs": [
    {
     "data": {
      "text/plain": [
       "array([[4],\n",
       "       [9]])"
      ]
     },
     "execution_count": 47,
     "metadata": {},
     "output_type": "execute_result"
    }
   ],
   "source": [
    "A @ x"
   ]
  },
  {
   "cell_type": "markdown",
   "id": "f84b1292",
   "metadata": {},
   "source": []
  },
  {
   "cell_type": "code",
   "execution_count": 49,
   "id": "46258d2e",
   "metadata": {},
   "outputs": [
    {
     "data": {
      "text/plain": [
       "array([[4],\n",
       "       [9]])"
      ]
     },
     "execution_count": 49,
     "metadata": {},
     "output_type": "execute_result"
    }
   ],
   "source": [
    "np.dot(A,x)"
   ]
  },
  {
   "cell_type": "code",
   "execution_count": 63,
   "id": "ea6fbd87",
   "metadata": {},
   "outputs": [],
   "source": [
    "A = np.array([[0,2],\n",
    "              [1,4]])\n",
    "B = np.array([[1,3],\n",
    "              [2,1]])"
   ]
  },
  {
   "cell_type": "code",
   "execution_count": 68,
   "id": "1f5f1d45",
   "metadata": {},
   "outputs": [
    {
     "name": "stdout",
     "output_type": "stream",
     "text": [
      "[[4 2]\n",
      " [9 7]]\n",
      "--------------\n",
      "[[0 6]\n",
      " [2 4]]\n",
      "--------------\n",
      "[[0 6]\n",
      " [2 4]]\n"
     ]
    }
   ],
   "source": [
    "#Dot Product\n",
    "print(A@B)\n",
    "print(\"--------------\")\n",
    "#hadamard Product\n",
    "print(np.multiply(A,B))\n",
    "print(\"--------------\")\n",
    "print(A*B)"
   ]
  },
  {
   "cell_type": "code",
   "execution_count": 52,
   "id": "09d24273",
   "metadata": {},
   "outputs": [
    {
     "data": {
      "text/plain": [
       "array([[4, 2],\n",
       "       [9, 7]])"
      ]
     },
     "execution_count": 52,
     "metadata": {},
     "output_type": "execute_result"
    }
   ],
   "source": [
    "np.dot(A,B)"
   ]
  },
  {
   "cell_type": "code",
   "execution_count": 53,
   "id": "724c779a",
   "metadata": {},
   "outputs": [],
   "source": [
    "#Matrix Inverse\n",
    "A = np.array([[1, 2, 1],\n",
    "              [4, 4, 5],\n",
    "              [6, 7, 7]])"
   ]
  },
  {
   "cell_type": "code",
   "execution_count": 57,
   "id": "8f6d1a38",
   "metadata": {},
   "outputs": [
    {
     "name": "stdout",
     "output_type": "stream",
     "text": [
      "A inverse:\n",
      "[[-7. -7.  6.]\n",
      " [ 2.  1. -1.]\n",
      " [ 4.  5. -4.]]\n",
      "[[ 1.  0.  0.]\n",
      " [ 0.  1. -0.]\n",
      " [-0. -0.  1.]]\n",
      "A_i inverse:\n",
      "[[1. 2. 1.]\n",
      " [4. 4. 5.]\n",
      " [6. 7. 7.]]\n"
     ]
    }
   ],
   "source": [
    "A_i = np.linalg.inv(A)\n",
    "print(f'A inverse:\\n{A_i}')\n",
    "\n",
    "I = np.round(A_i @ A)\n",
    "print(I)\n",
    "\n",
    "A_i_i = np.linalg.inv(A_i)\n",
    "print(f'A_i inverse:\\n{A_i_i}')"
   ]
  },
  {
   "cell_type": "code",
   "execution_count": 58,
   "id": "a2e90188",
   "metadata": {},
   "outputs": [
    {
     "data": {
      "text/plain": [
       "array([[1, 4, 6],\n",
       "       [2, 4, 7],\n",
       "       [1, 5, 7]])"
      ]
     },
     "execution_count": 58,
     "metadata": {},
     "output_type": "execute_result"
    }
   ],
   "source": [
    "#Matrix Transpose\n",
    "A.T"
   ]
  },
  {
   "cell_type": "code",
   "execution_count": 69,
   "id": "e83e12ff",
   "metadata": {},
   "outputs": [],
   "source": [
    "import scipy"
   ]
  },
  {
   "cell_type": "code",
   "execution_count": 73,
   "id": "fa791356",
   "metadata": {},
   "outputs": [
    {
     "name": "stdout",
     "output_type": "stream",
     "text": [
      "[[1]\n",
      " [2]\n",
      " [3]]\n",
      "[[1]\n",
      " [2]\n",
      " [3]]\n"
     ]
    }
   ],
   "source": [
    "v = np.array([1,2,3]).reshape(3,1)\n",
    "print(v)\n",
    "\n",
    "v = np.array([1,2,3]).reshape(-1,1)\n",
    "print(v)"
   ]
  },
  {
   "cell_type": "code",
   "execution_count": 75,
   "id": "526b7077",
   "metadata": {},
   "outputs": [
    {
     "data": {
      "text/plain": [
       "array([[0, 0],\n",
       "       [0, 0],\n",
       "       [0, 0]])"
      ]
     },
     "execution_count": 75,
     "metadata": {},
     "output_type": "execute_result"
    }
   ],
   "source": [
    "np.zeros((3,2), dtype=int)"
   ]
  },
  {
   "cell_type": "code",
   "execution_count": 76,
   "id": "6136578b",
   "metadata": {},
   "outputs": [
    {
     "data": {
      "text/plain": [
       "array([[1, 1],\n",
       "       [1, 1],\n",
       "       [1, 1]])"
      ]
     },
     "execution_count": 76,
     "metadata": {},
     "output_type": "execute_result"
    }
   ],
   "source": [
    "np.ones((3,2), dtype=int)"
   ]
  },
  {
   "cell_type": "code",
   "execution_count": 78,
   "id": "5cfb49fb",
   "metadata": {},
   "outputs": [
    {
     "data": {
      "text/plain": [
       "array([[0.29265705, 0.1202457 ],\n",
       "       [0.88985257, 0.68401828],\n",
       "       [0.69146246, 0.91341301]])"
      ]
     },
     "execution_count": 78,
     "metadata": {},
     "output_type": "execute_result"
    }
   ],
   "source": [
    "np.random.rand(3,2)"
   ]
  },
  {
   "cell_type": "code",
   "execution_count": 80,
   "id": "b5eee27c",
   "metadata": {},
   "outputs": [
    {
     "data": {
      "text/plain": [
       "array([[-0.90040134,  0.47092798],\n",
       "       [ 0.50113926, -0.32949066],\n",
       "       [ 1.32867956, -0.41515585]])"
      ]
     },
     "execution_count": 80,
     "metadata": {},
     "output_type": "execute_result"
    }
   ],
   "source": [
    "np.random.randn(3,2)"
   ]
  },
  {
   "cell_type": "code",
   "execution_count": null,
   "id": "77606859",
   "metadata": {},
   "outputs": [],
   "source": []
  }
 ],
 "metadata": {
  "kernelspec": {
   "display_name": "Python 3 (ipykernel)",
   "language": "python",
   "name": "python3"
  },
  "language_info": {
   "codemirror_mode": {
    "name": "ipython",
    "version": 3
   },
   "file_extension": ".py",
   "mimetype": "text/x-python",
   "name": "python",
   "nbconvert_exporter": "python",
   "pygments_lexer": "ipython3",
   "version": "3.11.7"
  }
 },
 "nbformat": 4,
 "nbformat_minor": 5
}
