{
 "cells": [
  {
   "cell_type": "code",
   "execution_count": 1,
   "id": "1a15359a",
   "metadata": {},
   "outputs": [],
   "source": [
    "import numpy as np\n",
    "from scipy import linalg"
   ]
  },
  {
   "cell_type": "code",
   "execution_count": 2,
   "id": "7698534d",
   "metadata": {},
   "outputs": [],
   "source": [
    "A = np.array([\n",
    "        [1, 9, 2, 1, 1],\n",
    "        [10, 1, 2, 1, 1],\n",
    "        [1, 0, 5, 1, 1],\n",
    "        [2, 1, 1, 2, 9],\n",
    "        [2, 1, 2, 13, 2],\n",
    "             ])\n",
    "B = np.array([170, 180, 140, 180, 350]).reshape((5,1))"
   ]
  },
  {
   "cell_type": "code",
   "execution_count": 5,
   "id": "ba9fdcf3",
   "metadata": {},
   "outputs": [
    {
     "data": {
      "text/plain": [
       "array([[-0.01077558,  0.10655847, -0.03565252, -0.0058534 , -0.00372489],\n",
       "       [ 0.11287748, -0.00512172, -0.04010909, -0.00658507, -0.0041905 ],\n",
       "       [ 0.0052991 , -0.01536517,  0.21300608, -0.01975522, -0.0125715 ],\n",
       "       [-0.0064077 , -0.01070906, -0.02325839, -0.01376879,  0.08214713],\n",
       "       [-0.00931223, -0.01902355, -0.00611946,  0.1183983 , -0.01556472]])"
      ]
     },
     "execution_count": 5,
     "metadata": {},
     "output_type": "execute_result"
    }
   ],
   "source": [
    "A_inv = linalg.inv(A)\n",
    "A_inv"
   ]
  },
  {
   "cell_type": "code",
   "execution_count": 6,
   "id": "259f2896",
   "metadata": {
    "scrolled": true
   },
   "outputs": [
    {
     "data": {
      "text/plain": [
       "array([[10.],\n",
       "       [10.],\n",
       "       [20.],\n",
       "       [20.],\n",
       "       [10.]])"
      ]
     },
     "execution_count": 6,
     "metadata": {},
     "output_type": "execute_result"
    }
   ],
   "source": [
    "x = A_inv @ B\n",
    "x"
   ]
  },
  {
   "cell_type": "code",
   "execution_count": 7,
   "id": "82e67f81",
   "metadata": {},
   "outputs": [
    {
     "data": {
      "text/plain": [
       "45102.0"
      ]
     },
     "execution_count": 7,
     "metadata": {},
     "output_type": "execute_result"
    }
   ],
   "source": [
    "linalg.det(A)"
   ]
  },
  {
   "cell_type": "code",
   "execution_count": 8,
   "id": "bf3e0b88",
   "metadata": {},
   "outputs": [
    {
     "data": {
      "text/plain": [
       "1.9999999999999996"
      ]
     },
     "execution_count": 8,
     "metadata": {},
     "output_type": "execute_result"
    }
   ],
   "source": [
    "#Interpolating Polynomials With Linear Systems\n",
    "A = np.array([[1,1,1],[1,2,4],[1,3,9]])\n",
    "linalg.det(A)"
   ]
  },
  {
   "cell_type": "code",
   "execution_count": 9,
   "id": "8cb0cdc9",
   "metadata": {},
   "outputs": [],
   "source": [
    "B = np.array([5,13,25]).reshape((3,1))"
   ]
  },
  {
   "cell_type": "code",
   "execution_count": 10,
   "id": "2d126d6a",
   "metadata": {},
   "outputs": [
    {
     "data": {
      "text/plain": [
       "array([[1.],\n",
       "       [2.],\n",
       "       [2.]])"
      ]
     },
     "execution_count": 10,
     "metadata": {},
     "output_type": "execute_result"
    }
   ],
   "source": [
    "a = linalg.inv(A)@B\n",
    "a"
   ]
  },
  {
   "cell_type": "code",
   "execution_count": 11,
   "id": "a3f70e3f",
   "metadata": {},
   "outputs": [],
   "source": [
    "# as per this result let put result value in equation\n",
    "# (1,5), (2,13), (2,25)\n",
    "#  we can see 2 and 3rd option x is same and y is diffrent, it's not possible to find a function that includes both ponts.\n",
    "\n",
    "# a0+a1+a2 = 5\n",
    "# a0+2a1+4a2 = 13\n",
    "# a0+2a1+4a2 = 25"
   ]
  },
  {
   "cell_type": "code",
   "execution_count": 12,
   "id": "6f97006f",
   "metadata": {},
   "outputs": [
    {
     "data": {
      "text/plain": [
       "-1.6653345369377348e-16"
      ]
     },
     "execution_count": 12,
     "metadata": {},
     "output_type": "execute_result"
    }
   ],
   "source": [
    "A = np.array([[1,1,1],[1,2,4],[1,2,4]])\n",
    "linalg.det(A)"
   ]
  },
  {
   "cell_type": "code",
   "execution_count": 51,
   "id": "748b6aa2",
   "metadata": {},
   "outputs": [
    {
     "data": {
      "text/plain": [
       "-1.6653345369377348e-16"
      ]
     },
     "execution_count": 51,
     "metadata": {},
     "output_type": "execute_result"
    }
   ],
   "source": [
    "A = np.array([[1, 1, 1], [1, 2, 4], [1, 2, 4]])\n",
    "linalg.det(A)"
   ]
  },
  {
   "cell_type": "code",
   "execution_count": 52,
   "id": "0801fdd3",
   "metadata": {},
   "outputs": [
    {
     "data": {
      "text/plain": [
       "array([[1, 1, 1],\n",
       "       [1, 2, 4],\n",
       "       [1, 2, 4]])"
      ]
     },
     "execution_count": 52,
     "metadata": {},
     "output_type": "execute_result"
    }
   ],
   "source": [
    "A"
   ]
  },
  {
   "cell_type": "code",
   "execution_count": 15,
   "id": "18668f60",
   "metadata": {},
   "outputs": [
    {
     "data": {
      "text/plain": [
       "array([[-0.42857143],\n",
       "       [ 1.14285714],\n",
       "       [ 4.28571429]])"
      ]
     },
     "execution_count": 15,
     "metadata": {},
     "output_type": "execute_result"
    }
   ],
   "source": [
    "b = np.array([5, 13, 25]).reshape((3, 1))\n",
    "# x = linalg.inv(A) @ b #this give error: raise LinAlgError(\"singular matrix\")\n",
    "p, *_ = linalg.lstsq(A,B)\n",
    "p"
   ]
  },
  {
   "cell_type": "code",
   "execution_count": 16,
   "id": "15ca1423",
   "metadata": {},
   "outputs": [],
   "source": [
    "#let's visualise the solution provided by plotting the parabola\n",
    "import matplotlib.pyplot as plt"
   ]
  },
  {
   "cell_type": "code",
   "execution_count": 19,
   "id": "46319bdd",
   "metadata": {},
   "outputs": [],
   "source": [
    "x = np.linspace(0,3,1000)\n",
    "y = p[0] + p[1] * x + p[2] * x ** 2"
   ]
  },
  {
   "cell_type": "code",
   "execution_count": 20,
   "id": "d1c22f26",
   "metadata": {},
   "outputs": [
    {
     "data": {
      "text/plain": [
       "[<matplotlib.lines.Line2D at 0x1754c5e9390>]"
      ]
     },
     "execution_count": 20,
     "metadata": {},
     "output_type": "execute_result"
    },
    {
     "data": {
      "image/png": "[encoded data removed]",
      "text/plain": [
       "<Figure size 640x480 with 1 Axes>"
      ]
     },
     "metadata": {},
     "output_type": "display_data"
    }
   ],
   "source": [
    "plt.plot(x,y)\n",
    "plt.plot(1,5, \"ro\")\n",
    "plt.plot(2,13, \"ro\")\n",
    "plt.plot(2,25, \"ro\")"
   ]
  },
  {
   "cell_type": "code",
   "execution_count": 21,
   "id": "e8a89ba4",
   "metadata": {},
   "outputs": [],
   "source": [
    "#Obtaining Least Squares Solutions Using a Pseudoinverse"
   ]
  },
  {
   "cell_type": "code",
   "execution_count": 22,
   "id": "9c723afa",
   "metadata": {},
   "outputs": [],
   "source": [
    "A = np.array([[1, 1, 1], [1, 2, 4], [1, 2, 4]])\n",
    "b = np.array([5, 13, 25]).reshape((3, 1))"
   ]
  },
  {
   "cell_type": "code",
   "execution_count": 23,
   "id": "2b5c38a4",
   "metadata": {},
   "outputs": [
    {
     "data": {
      "text/plain": [
       "array([[ 1.        , -0.14285714, -0.14285714],\n",
       "       [ 0.5       , -0.03571429, -0.03571429],\n",
       "       [-0.5       ,  0.17857143,  0.17857143]])"
      ]
     },
     "execution_count": 23,
     "metadata": {},
     "output_type": "execute_result"
    }
   ],
   "source": [
    "A_pinv = linalg.pinv(A)\n",
    "A_pinv"
   ]
  },
  {
   "cell_type": "code",
   "execution_count": 24,
   "id": "0b6115dc",
   "metadata": {},
   "outputs": [
    {
     "data": {
      "text/plain": [
       "array([[-0.42857143],\n",
       "       [ 1.14285714],\n",
       "       [ 4.28571429]])"
      ]
     },
     "execution_count": 24,
     "metadata": {},
     "output_type": "execute_result"
    }
   ],
   "source": [
    "p2 = A_pinv @ b\n",
    "p2"
   ]
  },
  {
   "cell_type": "code",
   "execution_count": 25,
   "id": "455ed9f3",
   "metadata": {},
   "outputs": [],
   "source": [
    "# Predicting Car Prices With Least Squares\n",
    "# Preparing the Data\n",
    "\n",
    "import pandas as pd"
   ]
  },
  {
   "cell_type": "code",
   "execution_count": 27,
   "id": "8fac85f3",
   "metadata": {},
   "outputs": [],
   "source": [
    "cars_data = pd.read_csv(\"vehicles_cleaned.csv\")"
   ]
  },
  {
   "cell_type": "code",
   "execution_count": 29,
   "id": "6929128d",
   "metadata": {},
   "outputs": [
    {
     "data": {
      "text/plain": [
       "Index(['price', 'year', 'condition', 'cylinders', 'fuel', 'odometer',\n",
       "       'transmission', 'size', 'type'],\n",
       "      dtype='object')"
      ]
     },
     "execution_count": 29,
     "metadata": {},
     "output_type": "execute_result"
    }
   ],
   "source": [
    "cars_data.columns"
   ]
  },
  {
   "cell_type": "code",
   "execution_count": 30,
   "id": "4224e307",
   "metadata": {},
   "outputs": [
    {
     "data": {
      "text/plain": [
       "price                  7000\n",
       "year                   2011\n",
       "condition              good\n",
       "cylinders       4 cylinders\n",
       "fuel                    gas\n",
       "odometer              76202\n",
       "transmission      automatic\n",
       "size                compact\n",
       "type                  sedan\n",
       "Name: 0, dtype: object"
      ]
     },
     "execution_count": 30,
     "metadata": {},
     "output_type": "execute_result"
    }
   ],
   "source": [
    "cars_data.iloc[0]"
   ]
  },
  {
   "cell_type": "code",
   "execution_count": 31,
   "id": "c165947a",
   "metadata": {},
   "outputs": [],
   "source": [
    "cars_data_dummies = pd.get_dummies(\n",
    "    cars_data,\n",
    "    columns = [\n",
    "        \"condition\",\n",
    "        \"cylinders\",\n",
    "        \"fuel\",\n",
    "        \"transmission\",\n",
    "        \"size\",\n",
    "        \"type\",\n",
    "    ],\n",
    "    drop_first = True,\n",
    ")"
   ]
  },
  {
   "cell_type": "code",
   "execution_count": 32,
   "id": "ea1d71fe",
   "metadata": {},
   "outputs": [
    {
     "data": {
      "text/html": [
       "<div>\n",
       "<style scoped>\n",
       "    .dataframe tbody tr th:only-of-type {\n",
       "        vertical-align: middle;\n",
       "    }\n",
       "\n",
       "    .dataframe tbody tr th {\n",
       "        vertical-align: top;\n",
       "    }\n",
       "\n",
       "    .dataframe thead th {\n",
       "        text-align: right;\n",
       "    }\n",
       "</style>\n",
       "<table border=\"1\" class=\"dataframe\">\n",
       "  <thead>\n",
       "    <tr style=\"text-align: right;\">\n",
       "      <th></th>\n",
       "      <th>price</th>\n",
       "      <th>year</th>\n",
       "      <th>odometer</th>\n",
       "      <th>condition_fair</th>\n",
       "      <th>condition_good</th>\n",
       "      <th>condition_like new</th>\n",
       "      <th>condition_new</th>\n",
       "      <th>condition_salvage</th>\n",
       "      <th>cylinders_6 cylinders</th>\n",
       "      <th>fuel_gas</th>\n",
       "      <th>transmission_manual</th>\n",
       "      <th>size_full-size</th>\n",
       "      <th>size_mid-size</th>\n",
       "      <th>size_sub-compact</th>\n",
       "      <th>type_hatchback</th>\n",
       "      <th>type_sedan</th>\n",
       "      <th>type_wagon</th>\n",
       "    </tr>\n",
       "  </thead>\n",
       "  <tbody>\n",
       "    <tr>\n",
       "      <th>0</th>\n",
       "      <td>7000</td>\n",
       "      <td>2011</td>\n",
       "      <td>76202</td>\n",
       "      <td>False</td>\n",
       "      <td>True</td>\n",
       "      <td>False</td>\n",
       "      <td>False</td>\n",
       "      <td>False</td>\n",
       "      <td>False</td>\n",
       "      <td>True</td>\n",
       "      <td>False</td>\n",
       "      <td>False</td>\n",
       "      <td>False</td>\n",
       "      <td>False</td>\n",
       "      <td>False</td>\n",
       "      <td>True</td>\n",
       "      <td>False</td>\n",
       "    </tr>\n",
       "    <tr>\n",
       "      <th>1</th>\n",
       "      <td>10900</td>\n",
       "      <td>2014</td>\n",
       "      <td>63000</td>\n",
       "      <td>False</td>\n",
       "      <td>False</td>\n",
       "      <td>False</td>\n",
       "      <td>False</td>\n",
       "      <td>False</td>\n",
       "      <td>False</td>\n",
       "      <td>True</td>\n",
       "      <td>True</td>\n",
       "      <td>False</td>\n",
       "      <td>False</td>\n",
       "      <td>False</td>\n",
       "      <td>False</td>\n",
       "      <td>True</td>\n",
       "      <td>False</td>\n",
       "    </tr>\n",
       "    <tr>\n",
       "      <th>2</th>\n",
       "      <td>13300</td>\n",
       "      <td>2012</td>\n",
       "      <td>96000</td>\n",
       "      <td>False</td>\n",
       "      <td>False</td>\n",
       "      <td>False</td>\n",
       "      <td>False</td>\n",
       "      <td>False</td>\n",
       "      <td>True</td>\n",
       "      <td>True</td>\n",
       "      <td>False</td>\n",
       "      <td>False</td>\n",
       "      <td>True</td>\n",
       "      <td>False</td>\n",
       "      <td>False</td>\n",
       "      <td>True</td>\n",
       "      <td>False</td>\n",
       "    </tr>\n",
       "    <tr>\n",
       "      <th>3</th>\n",
       "      <td>14900</td>\n",
       "      <td>2016</td>\n",
       "      <td>48900</td>\n",
       "      <td>False</td>\n",
       "      <td>False</td>\n",
       "      <td>False</td>\n",
       "      <td>False</td>\n",
       "      <td>False</td>\n",
       "      <td>False</td>\n",
       "      <td>True</td>\n",
       "      <td>False</td>\n",
       "      <td>False</td>\n",
       "      <td>True</td>\n",
       "      <td>False</td>\n",
       "      <td>False</td>\n",
       "      <td>True</td>\n",
       "      <td>False</td>\n",
       "    </tr>\n",
       "    <tr>\n",
       "      <th>4</th>\n",
       "      <td>18900</td>\n",
       "      <td>2016</td>\n",
       "      <td>58112</td>\n",
       "      <td>False</td>\n",
       "      <td>False</td>\n",
       "      <td>False</td>\n",
       "      <td>False</td>\n",
       "      <td>False</td>\n",
       "      <td>True</td>\n",
       "      <td>True</td>\n",
       "      <td>False</td>\n",
       "      <td>False</td>\n",
       "      <td>True</td>\n",
       "      <td>False</td>\n",
       "      <td>False</td>\n",
       "      <td>True</td>\n",
       "      <td>False</td>\n",
       "    </tr>\n",
       "    <tr>\n",
       "      <th>...</th>\n",
       "      <td>...</td>\n",
       "      <td>...</td>\n",
       "      <td>...</td>\n",
       "      <td>...</td>\n",
       "      <td>...</td>\n",
       "      <td>...</td>\n",
       "      <td>...</td>\n",
       "      <td>...</td>\n",
       "      <td>...</td>\n",
       "      <td>...</td>\n",
       "      <td>...</td>\n",
       "      <td>...</td>\n",
       "      <td>...</td>\n",
       "      <td>...</td>\n",
       "      <td>...</td>\n",
       "      <td>...</td>\n",
       "      <td>...</td>\n",
       "    </tr>\n",
       "    <tr>\n",
       "      <th>9327</th>\n",
       "      <td>9200</td>\n",
       "      <td>2011</td>\n",
       "      <td>43999</td>\n",
       "      <td>False</td>\n",
       "      <td>True</td>\n",
       "      <td>False</td>\n",
       "      <td>False</td>\n",
       "      <td>False</td>\n",
       "      <td>True</td>\n",
       "      <td>True</td>\n",
       "      <td>False</td>\n",
       "      <td>True</td>\n",
       "      <td>False</td>\n",
       "      <td>False</td>\n",
       "      <td>False</td>\n",
       "      <td>True</td>\n",
       "      <td>False</td>\n",
       "    </tr>\n",
       "    <tr>\n",
       "      <th>9328</th>\n",
       "      <td>18995</td>\n",
       "      <td>2014</td>\n",
       "      <td>98889</td>\n",
       "      <td>False</td>\n",
       "      <td>False</td>\n",
       "      <td>False</td>\n",
       "      <td>False</td>\n",
       "      <td>False</td>\n",
       "      <td>True</td>\n",
       "      <td>True</td>\n",
       "      <td>False</td>\n",
       "      <td>True</td>\n",
       "      <td>False</td>\n",
       "      <td>False</td>\n",
       "      <td>False</td>\n",
       "      <td>True</td>\n",
       "      <td>False</td>\n",
       "    </tr>\n",
       "    <tr>\n",
       "      <th>9329</th>\n",
       "      <td>9885</td>\n",
       "      <td>2012</td>\n",
       "      <td>82000</td>\n",
       "      <td>False</td>\n",
       "      <td>False</td>\n",
       "      <td>False</td>\n",
       "      <td>False</td>\n",
       "      <td>False</td>\n",
       "      <td>False</td>\n",
       "      <td>True</td>\n",
       "      <td>False</td>\n",
       "      <td>False</td>\n",
       "      <td>True</td>\n",
       "      <td>False</td>\n",
       "      <td>True</td>\n",
       "      <td>False</td>\n",
       "      <td>False</td>\n",
       "    </tr>\n",
       "    <tr>\n",
       "      <th>9330</th>\n",
       "      <td>750</td>\n",
       "      <td>2002</td>\n",
       "      <td>40000</td>\n",
       "      <td>False</td>\n",
       "      <td>False</td>\n",
       "      <td>False</td>\n",
       "      <td>False</td>\n",
       "      <td>True</td>\n",
       "      <td>False</td>\n",
       "      <td>True</td>\n",
       "      <td>True</td>\n",
       "      <td>False</td>\n",
       "      <td>False</td>\n",
       "      <td>False</td>\n",
       "      <td>False</td>\n",
       "      <td>False</td>\n",
       "      <td>False</td>\n",
       "    </tr>\n",
       "    <tr>\n",
       "      <th>9331</th>\n",
       "      <td>4800</td>\n",
       "      <td>2002</td>\n",
       "      <td>58000</td>\n",
       "      <td>False</td>\n",
       "      <td>True</td>\n",
       "      <td>False</td>\n",
       "      <td>False</td>\n",
       "      <td>False</td>\n",
       "      <td>True</td>\n",
       "      <td>True</td>\n",
       "      <td>False</td>\n",
       "      <td>False</td>\n",
       "      <td>False</td>\n",
       "      <td>False</td>\n",
       "      <td>False</td>\n",
       "      <td>False</td>\n",
       "      <td>False</td>\n",
       "    </tr>\n",
       "  </tbody>\n",
       "</table>\n",
       "<p>9332 rows × 17 columns</p>\n",
       "</div>"
      ],
      "text/plain": [
       "      price  year  odometer  condition_fair  condition_good  \\\n",
       "0      7000  2011     76202           False            True   \n",
       "1     10900  2014     63000           False           False   \n",
       "2     13300  2012     96000           False           False   \n",
       "3     14900  2016     48900           False           False   \n",
       "4     18900  2016     58112           False           False   \n",
       "...     ...   ...       ...             ...             ...   \n",
       "9327   9200  2011     43999           False            True   \n",
       "9328  18995  2014     98889           False           False   \n",
       "9329   9885  2012     82000           False           False   \n",
       "9330    750  2002     40000           False           False   \n",
       "9331   4800  2002     58000           False            True   \n",
       "\n",
       "      condition_like new  condition_new  condition_salvage  \\\n",
       "0                  False          False              False   \n",
       "1                  False          False              False   \n",
       "2                  False          False              False   \n",
       "3                  False          False              False   \n",
       "4                  False          False              False   \n",
       "...                  ...            ...                ...   \n",
       "9327               False          False              False   \n",
       "9328               False          False              False   \n",
       "9329               False          False              False   \n",
       "9330               False          False               True   \n",
       "9331               False          False              False   \n",
       "\n",
       "      cylinders_6 cylinders  fuel_gas  transmission_manual  size_full-size  \\\n",
       "0                     False      True                False           False   \n",
       "1                     False      True                 True           False   \n",
       "2                      True      True                False           False   \n",
       "3                     False      True                False           False   \n",
       "4                      True      True                False           False   \n",
       "...                     ...       ...                  ...             ...   \n",
       "9327                   True      True                False            True   \n",
       "9328                   True      True                False            True   \n",
       "9329                  False      True                False           False   \n",
       "9330                  False      True                 True           False   \n",
       "9331                   True      True                False           False   \n",
       "\n",
       "      size_mid-size  size_sub-compact  type_hatchback  type_sedan  type_wagon  \n",
       "0             False             False           False        True       False  \n",
       "1             False             False           False        True       False  \n",
       "2              True             False           False        True       False  \n",
       "3              True             False           False        True       False  \n",
       "4              True             False           False        True       False  \n",
       "...             ...               ...             ...         ...         ...  \n",
       "9327          False             False           False        True       False  \n",
       "9328          False             False           False        True       False  \n",
       "9329           True             False            True       False       False  \n",
       "9330          False             False           False       False       False  \n",
       "9331          False             False           False       False       False  \n",
       "\n",
       "[9332 rows x 17 columns]"
      ]
     },
     "execution_count": 32,
     "metadata": {},
     "output_type": "execute_result"
    }
   ],
   "source": [
    "cars_data_dummies"
   ]
  },
  {
   "cell_type": "code",
   "execution_count": 54,
   "id": "3bd62e09",
   "metadata": {},
   "outputs": [
    {
     "data": {
      "text/plain": [
       "array([[7000, 2011, 76202, ..., True, False, 1],\n",
       "       [10900, 2014, 63000, ..., True, False, 1],\n",
       "       [13300, 2012, 96000, ..., True, False, 1],\n",
       "       ...,\n",
       "       [9885, 2012, 82000, ..., False, False, 1],\n",
       "       [750, 2002, 40000, ..., False, False, 1],\n",
       "       [4800, 2002, 58000, ..., False, False, 1]], dtype=object)"
      ]
     },
     "execution_count": 54,
     "metadata": {},
     "output_type": "execute_result"
    }
   ],
   "source": [
    "cars_data_dummies[\"intercept\"] = 1\n",
    "cars_data_dummies.to_numpy()"
   ]
  },
  {
   "cell_type": "code",
   "execution_count": 35,
   "id": "b7ea85a1",
   "metadata": {},
   "outputs": [
    {
     "data": {
      "text/plain": [
       "array([[2011, 76202, False, ..., True, False, 1],\n",
       "       [2014, 63000, False, ..., True, False, 1],\n",
       "       [2012, 96000, False, ..., True, False, 1],\n",
       "       ...,\n",
       "       [2012, 82000, False, ..., False, False, 1],\n",
       "       [2002, 40000, False, ..., False, False, 1],\n",
       "       [2002, 58000, False, ..., False, False, 1]], dtype=object)"
      ]
     },
     "execution_count": 35,
     "metadata": {},
     "output_type": "execute_result"
    }
   ],
   "source": [
    "A = cars_data_dummies.drop(columns=[\"price\"]).to_numpy()\n",
    "A"
   ]
  },
  {
   "cell_type": "code",
   "execution_count": 36,
   "id": "67485744",
   "metadata": {},
   "outputs": [
    {
     "data": {
      "text/plain": [
       "array([ 7000, 10900, 13300, ...,  9885,   750,  4800], dtype=int64)"
      ]
     },
     "execution_count": 36,
     "metadata": {},
     "output_type": "execute_result"
    }
   ],
   "source": [
    "b = cars_data_dummies.loc[:,\"price\"].to_numpy()\n",
    "b"
   ]
  },
  {
   "cell_type": "code",
   "execution_count": 49,
   "id": "70b111fc",
   "metadata": {},
   "outputs": [
    {
     "data": {
      "text/plain": [
       "(9332, 17)"
      ]
     },
     "execution_count": 49,
     "metadata": {},
     "output_type": "execute_result"
    }
   ],
   "source": [
    "A = cars_data_dummies.drop(columns=[\"price\"]).to_numpy()\n",
    "b = cars_data_dummies.loc[:, \"price\"].to_numpy()\n",
    "A.shape"
   ]
  },
  {
   "cell_type": "code",
   "execution_count": 44,
   "id": "fdacbb3e",
   "metadata": {},
   "outputs": [],
   "source": [
    "from scipy import linalg"
   ]
  },
  {
   "cell_type": "code",
   "execution_count": 45,
   "id": "eb923db3",
   "metadata": {},
   "outputs": [
    {
     "ename": "ValueError",
     "evalue": "object arrays are not supported",
     "output_type": "error",
     "traceback": [
      "\u001b[1;31m---------------------------------------------------------------------------\u001b[0m",
      "\u001b[1;31mValueError\u001b[0m                                Traceback (most recent call last)",
      "Cell \u001b[1;32mIn[45], line 1\u001b[0m\n\u001b[1;32m----> 1\u001b[0m p, \u001b[38;5;241m*\u001b[39m_ \u001b[38;5;241m=\u001b[39m linalg\u001b[38;5;241m.\u001b[39mlstsq(A, b)\n",
      "File \u001b[1;32m~\\anaconda3\\Lib\\site-packages\\scipy\\linalg\\_basic.py:1224\u001b[0m, in \u001b[0;36mlstsq\u001b[1;34m(a, b, cond, overwrite_a, overwrite_b, check_finite, lapack_driver)\u001b[0m\n\u001b[0;32m   1113\u001b[0m \u001b[38;5;28;01mdef\u001b[39;00m \u001b[38;5;21mlstsq\u001b[39m(a, b, cond\u001b[38;5;241m=\u001b[39m\u001b[38;5;28;01mNone\u001b[39;00m, overwrite_a\u001b[38;5;241m=\u001b[39m\u001b[38;5;28;01mFalse\u001b[39;00m, overwrite_b\u001b[38;5;241m=\u001b[39m\u001b[38;5;28;01mFalse\u001b[39;00m,\n\u001b[0;32m   1114\u001b[0m           check_finite\u001b[38;5;241m=\u001b[39m\u001b[38;5;28;01mTrue\u001b[39;00m, lapack_driver\u001b[38;5;241m=\u001b[39m\u001b[38;5;28;01mNone\u001b[39;00m):\n\u001b[0;32m   1115\u001b[0m \u001b[38;5;250m    \u001b[39m\u001b[38;5;124;03m\"\"\"\u001b[39;00m\n\u001b[0;32m   1116\u001b[0m \u001b[38;5;124;03m    Compute least-squares solution to equation Ax = b.\u001b[39;00m\n\u001b[0;32m   1117\u001b[0m \n\u001b[1;32m   (...)\u001b[0m\n\u001b[0;32m   1222\u001b[0m \n\u001b[0;32m   1223\u001b[0m \u001b[38;5;124;03m    \"\"\"\u001b[39;00m\n\u001b[1;32m-> 1224\u001b[0m     a1 \u001b[38;5;241m=\u001b[39m _asarray_validated(a, check_finite\u001b[38;5;241m=\u001b[39mcheck_finite)\n\u001b[0;32m   1225\u001b[0m     b1 \u001b[38;5;241m=\u001b[39m _asarray_validated(b, check_finite\u001b[38;5;241m=\u001b[39mcheck_finite)\n\u001b[0;32m   1226\u001b[0m     \u001b[38;5;28;01mif\u001b[39;00m \u001b[38;5;28mlen\u001b[39m(a1\u001b[38;5;241m.\u001b[39mshape) \u001b[38;5;241m!=\u001b[39m \u001b[38;5;241m2\u001b[39m:\n",
      "File \u001b[1;32m~\\anaconda3\\Lib\\site-packages\\scipy\\_lib\\_util.py:243\u001b[0m, in \u001b[0;36m_asarray_validated\u001b[1;34m(a, check_finite, sparse_ok, objects_ok, mask_ok, as_inexact)\u001b[0m\n\u001b[0;32m    241\u001b[0m \u001b[38;5;28;01mif\u001b[39;00m \u001b[38;5;129;01mnot\u001b[39;00m objects_ok:\n\u001b[0;32m    242\u001b[0m     \u001b[38;5;28;01mif\u001b[39;00m a\u001b[38;5;241m.\u001b[39mdtype \u001b[38;5;129;01mis\u001b[39;00m np\u001b[38;5;241m.\u001b[39mdtype(\u001b[38;5;124m'\u001b[39m\u001b[38;5;124mO\u001b[39m\u001b[38;5;124m'\u001b[39m):\n\u001b[1;32m--> 243\u001b[0m         \u001b[38;5;28;01mraise\u001b[39;00m \u001b[38;5;167;01mValueError\u001b[39;00m(\u001b[38;5;124m'\u001b[39m\u001b[38;5;124mobject arrays are not supported\u001b[39m\u001b[38;5;124m'\u001b[39m)\n\u001b[0;32m    244\u001b[0m \u001b[38;5;28;01mif\u001b[39;00m as_inexact:\n\u001b[0;32m    245\u001b[0m     \u001b[38;5;28;01mif\u001b[39;00m \u001b[38;5;129;01mnot\u001b[39;00m np\u001b[38;5;241m.\u001b[39missubdtype(a\u001b[38;5;241m.\u001b[39mdtype, np\u001b[38;5;241m.\u001b[39minexact):\n",
      "\u001b[1;31mValueError\u001b[0m: object arrays are not supported"
     ]
    }
   ],
   "source": [
    "p, *_ = linalg.lstsq(A, b)"
   ]
  },
  {
   "cell_type": "code",
   "execution_count": null,
   "id": "e46e1b6a",
   "metadata": {},
   "outputs": [],
   "source": []
  }
 ],
 "metadata": {
  "kernelspec": {
   "display_name": "Python 3 (ipykernel)",
   "language": "python",
   "name": "python3"
  },
  "language_info": {
   "codemirror_mode": {
    "name": "ipython",
    "version": 3
   },
   "file_extension": ".py",
   "mimetype": "text/x-python",
   "name": "python",
   "nbconvert_exporter": "python",
   "pygments_lexer": "ipython3",
   "version": "3.11.7"
  }
 },
 "nbformat": 4,
 "nbformat_minor": 5
}
