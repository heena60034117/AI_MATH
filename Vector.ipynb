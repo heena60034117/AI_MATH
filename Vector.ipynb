{
 "cells": [
  {
   "cell_type": "code",
   "execution_count": 3,
   "id": "12109b69-28e1-4de2-b74b-48cac9db83a5",
   "metadata": {},
   "outputs": [
    {
     "name": "stdout",
     "output_type": "stream",
     "text": [
      "Requirement already satisfied: numpy in c:\\users\\vikas\\appdata\\local\\packages\\pythonsoftwarefoundation.python.3.12_qbz5n2kfra8p0\\localcache\\local-packages\\python312\\site-packages (1.26.4)\n"
     ]
    }
   ],
   "source": [
    "import sys\n",
    "!{sys.executable} -m pip install --user numpy"
   ]
  },
  {
   "cell_type": "code",
   "execution_count": 4,
   "id": "64a47310-d60c-4ead-83fa-b52d5659a389",
   "metadata": {},
   "outputs": [],
   "source": [
    "import numpy as np"
   ]
  },
  {
   "cell_type": "code",
   "execution_count": 5,
   "id": "d9baa7fc-ba0c-41fa-bb12-56c25481824c",
   "metadata": {},
   "outputs": [],
   "source": [
    "v=np.array([1,-1,2])\n",
    "w=np.array([2,5,2])"
   ]
  },
  {
   "cell_type": "code",
   "execution_count": 6,
   "id": "2ae8fa7a-94d4-444b-8240-ac0cee1302e5",
   "metadata": {},
   "outputs": [
    {
     "name": "stdout",
     "output_type": "stream",
     "text": [
      "[3 4 4]\n"
     ]
    }
   ],
   "source": [
    "print(v+w)"
   ]
  },
  {
   "cell_type": "code",
   "execution_count": 7,
   "id": "ec29a5d9-2c4f-4250-b8d9-2bc05a33835e",
   "metadata": {},
   "outputs": [
    {
     "name": "stdout",
     "output_type": "stream",
     "text": [
      "[-1 -6  0]\n"
     ]
    }
   ],
   "source": [
    "print(v-w)"
   ]
  },
  {
   "cell_type": "code",
   "execution_count": 8,
   "id": "4d8ac5db-b418-4ade-ba77-4239d48b8c36",
   "metadata": {},
   "outputs": [
    {
     "name": "stdout",
     "output_type": "stream",
     "text": [
      "[ 3 -3  6]\n"
     ]
    }
   ],
   "source": [
    "#scaller Multiplication\n",
    "print(3*v)"
   ]
  },
  {
   "cell_type": "code",
   "execution_count": 9,
   "id": "be986581-d4b0-4515-ba1c-d290384ea3c4",
   "metadata": {},
   "outputs": [
    {
     "name": "stdout",
     "output_type": "stream",
     "text": [
      "2.449489742783178\n"
     ]
    }
   ],
   "source": [
    "print(np.linalg.norm(v))"
   ]
  },
  {
   "cell_type": "code",
   "execution_count": 10,
   "id": "e4056c9a-a129-46c9-9966-4529e89612dd",
   "metadata": {},
   "outputs": [
    {
     "name": "stdout",
     "output_type": "stream",
     "text": [
      "1\n"
     ]
    }
   ],
   "source": [
    "s = np.dot(v,w)\n",
    "print(s)"
   ]
  },
  {
   "cell_type": "code",
   "execution_count": null,
   "id": "53b09ce2-dbb3-4dbd-a71d-854c354b9431",
   "metadata": {},
   "outputs": [],
   "source": []
  }
 ],
 "metadata": {
  "kernelspec": {
   "display_name": "Python 3 (ipykernel)",
   "language": "python",
   "name": "python3"
  },
  "language_info": {
   "codemirror_mode": {
    "name": "ipython",
    "version": 3
   },
   "file_extension": ".py",
   "mimetype": "text/x-python",
   "name": "python",
   "nbconvert_exporter": "python",
   "pygments_lexer": "ipython3",
   "version": "3.12.2"
  }
 },
 "nbformat": 4,
 "nbformat_minor": 5
}
